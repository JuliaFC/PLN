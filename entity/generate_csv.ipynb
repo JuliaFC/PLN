{
 "cells": [
  {
   "cell_type": "code",
   "execution_count": 7,
   "id": "c4c88772",
   "metadata": {},
   "outputs": [],
   "source": [
    "import os\n",
    "import pandas as pd"
   ]
  },
  {
   "cell_type": "code",
   "execution_count": 8,
   "id": "e4608557",
   "metadata": {},
   "outputs": [],
   "source": [
    "dir_str = \"../movieqa/questions/wiki_entities/entities\"\n",
    "directory = os.fsencode(dir_str)\n",
    "\n",
    "for file in os.listdir(directory):\n",
    "    filename = os.fsdecode(file)\n",
    "    filepath = dir_str + \"/\" + filename\n",
    "    \n",
    "    rawInput = open(filepath, 'r')\n",
    "    lines = []    \n",
    "    actual = rawInput.readline()\n",
    "    while actual != \"\":\n",
    "        lines.append(actual.rstrip('\\n'))\n",
    "        actual = rawInput.readline()\n",
    "    \n",
    "    # Create the data dict to generate the dataframe\n",
    "    data = { \"question\": [], \"entities\": [] }\n",
    "    for line in lines:\n",
    "        question, entities = line.split(\"\\t\")\n",
    "        data[\"question\"].append(str(question))\n",
    "        data[\"entities\"].append(eval(entities))\n",
    "    \n",
    "    # Get the entity name from the filename\n",
    "    entity_name = filename.split(\"_\")[2]\n",
    "    \n",
    "    \n",
    "    for i in range(len(data[\"entities\"])):\n",
    "        tokens = data[\"entities\"][i]\n",
    "        isBegin = True\n",
    "        for j in range(len(tokens)):\n",
    "            token = tokens[j]\n",
    "            if token[0].isupper(): # Transform the tokens in .txt's into the entity tokens\n",
    "                if isBegin:\n",
    "                    tokens[j] = \"B-\" + entity_name\n",
    "                    isBegin = False\n",
    "                else:\n",
    "                    tokens[j] = \"I-\" + entity_name\n",
    "            elif token[0].islower(): # Remove other enitities\n",
    "                tokens[j] = '0'\n",
    "\n",
    "\n",
    "    df = pd.DataFrame(data)\n",
    "    df.to_csv(\"./datasets/\" + filename[:-4] + \".csv\", index_label=False, index=False)"
   ]
  },
  {
   "cell_type": "code",
   "execution_count": null,
   "id": "9fa015b1",
   "metadata": {},
   "outputs": [],
   "source": []
  }
 ],
 "metadata": {
  "kernelspec": {
   "display_name": "Python 3",
   "language": "python",
   "name": "python3"
  },
  "language_info": {
   "codemirror_mode": {
    "name": "ipython",
    "version": 3
   },
   "file_extension": ".py",
   "mimetype": "text/x-python",
   "name": "python",
   "nbconvert_exporter": "python",
   "pygments_lexer": "ipython3",
   "version": "3.8.10"
  }
 },
 "nbformat": 4,
 "nbformat_minor": 5
}
